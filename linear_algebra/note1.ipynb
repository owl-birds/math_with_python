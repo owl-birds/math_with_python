{
 "cells": [
  {
   "attachments": {},
   "cell_type": "markdown",
   "metadata": {},
   "source": [
    "linear algebra : study of vectors, vectors spaces, mapping between vector spaces\n",
    "#\n"
   ]
  },
  {
   "attachments": {},
   "cell_type": "markdown",
   "metadata": {},
   "source": [
    "2a + 3b = 8\n",
    "#\n",
    "10a + 1b = 13\n",
    "#\n",
    "how to solve it, in general cases"
   ]
  },
  {
   "attachments": {},
   "cell_type": "markdown",
   "metadata": {},
   "source": [
    "fitting a model into a buch of data\n",
    "#\n",
    "for example data of frequency based on height in humna\n",
    "#\n",
    "parameter : miu (mean), sigma (standard deviation) distance to the mean\n",
    "#\n",
    "equation : f(x) = 1/sigma*sqrt(2pi) exp{-(x-miu)^2/2*sigma^2} : normal/gaussian distribution"
   ]
  },
  {
   "cell_type": "code",
   "execution_count": 1,
   "metadata": {},
   "outputs": [],
   "source": [
    "import pandas as pd\n",
    "import numpy as np"
   ]
  },
  {
   "cell_type": "code",
   "execution_count": null,
   "metadata": {},
   "outputs": [],
   "source": []
  }
 ],
 "metadata": {
  "kernelspec": {
   "display_name": "LA-env",
   "language": "python",
   "name": "python3"
  },
  "language_info": {
   "codemirror_mode": {
    "name": "ipython",
    "version": 3
   },
   "file_extension": ".py",
   "mimetype": "text/x-python",
   "name": "python",
   "nbconvert_exporter": "python",
   "pygments_lexer": "ipython3",
   "version": "3.9.6"
  },
  "orig_nbformat": 4,
  "vscode": {
   "interpreter": {
    "hash": "dc2d9bcdc91d8ae1ba25bee033f5beb349d154ca9c49e19c47ad7d459258a031"
   }
  }
 },
 "nbformat": 4,
 "nbformat_minor": 2
}
